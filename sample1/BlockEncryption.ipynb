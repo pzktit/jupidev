{
 "cells": [
  {
   "cell_type": "markdown",
   "metadata": {
    "id": "3Zrm9GTIxtxK"
   },
   "source": [
    "# Przykład szyfrowania i deszyfrowania z użyciem algorytmu symetrycznego\n"
   ]
  },
  {
   "cell_type": "markdown",
   "metadata": {
    "id": "B0fgJYthyFJe"
   },
   "source": [
    "## Przygotowania\n",
    "\n",
    "Wygenerowanie pliku testowego"
   ]
  },
  {
   "cell_type": "code",
   "execution_count": 3,
   "metadata": {
    "colab": {
     "base_uri": "https://localhost:8080/"
    },
    "executionInfo": {
     "elapsed": 14,
     "status": "ok",
     "timestamp": 1742146177741,
     "user": {
      "displayName": "Piotr Zawadzki",
      "userId": "01390574085725020306"
     },
     "user_tz": -60
    },
    "id": "dow-IfAvwVji",
    "outputId": "ce3e127c-0b75-4bb1-a07e-9c3559f1e7a3"
   },
   "outputs": [
    {
     "name": "stdout",
     "output_type": "stream",
     "text": [
      "File 'plaintext.txt' created successfully.\n",
      "This is the first line.\n",
      "This is the second line.\n",
      "And this is the third line.\n",
      "\n"
     ]
    }
   ],
   "source": [
    "import hashlib\n",
    "\n",
    "def generate_text_file(file_path, text_content):\n",
    "  \"\"\"Generates a text file with the given content.\n",
    "\n",
    "  Args:\n",
    "    file_path: The path to the file to be created.\n",
    "    text_content: The text content to be written to the file.\n",
    "                   Can be multiline.\n",
    "  \"\"\"\n",
    "  try:\n",
    "    with open(file_path, 'w') as file:\n",
    "      file.write(text_content)\n",
    "    print(f\"File '{file_path}' created successfully.\")\n",
    "  except Exception as e:\n",
    "    print(f\"An error occurred: {e}\")\n",
    "\n",
    "# code to print the contents of the file\n",
    "def print_file_content(file_path):\n",
    "    try:\n",
    "        with open(file_path, 'r') as file:\n",
    "            content = file.read()\n",
    "            print(content)\n",
    "    except FileNotFoundError:\n",
    "        print(f\"File '{file_path}' not found.\")\n",
    "    except Exception as e:\n",
    "        print(f\"An error occurred: {e}\")\n",
    "\n",
    "# Example usage\n",
    "file_path = 'plaintext.txt'\n",
    "text_content = \"\"\"This is the first line.\n",
    "This is the second line.\n",
    "And this is the third line.\n",
    "\"\"\"\n",
    "\n",
    "def compare_files(file1_path, file2_path):\n",
    "    \"\"\"Compares two binary files and prints the result.\n",
    "\n",
    "    Args:\n",
    "        file1_path: Path to the first binary file.\n",
    "        file2_path: Path to the second binary file.\n",
    "    \"\"\"\n",
    "    try:\n",
    "        hasher1 = hashlib.sha256()\n",
    "        with open(file1_path, 'rb') as file1:\n",
    "            while True:\n",
    "                chunk = file1.read(4096)\n",
    "                if not chunk:\n",
    "                    break\n",
    "                hasher1.update(chunk)\n",
    "\n",
    "        hasher2 = hashlib.sha256()\n",
    "        with open(file2_path, 'rb') as file2:\n",
    "            while True:\n",
    "                chunk = file2.read(4096)\n",
    "                if not chunk:\n",
    "                    break\n",
    "                hasher2.update(chunk)\n",
    "\n",
    "        if hasher1.hexdigest() == hasher2.hexdigest():\n",
    "            print(f\"Files '{file1_path}' and '{file2_path}' are identical.\")\n",
    "        else:\n",
    "            print(f\"Files '{file1_path}' and '{file2_path}' are different.\")\n",
    "\n",
    "    except FileNotFoundError:\n",
    "        print(f\"One or both files not found.\")\n",
    "    except Exception as e:\n",
    "        print(f\"An error occurred: {e}\")\n",
    "\n",
    "\n",
    "generate_text_file(file_path, text_content)\n",
    "print_file_content(file_path)\n"
   ]
  },
  {
   "cell_type": "markdown",
   "metadata": {},
   "source": []
  },
  {
   "cell_type": "markdown",
   "metadata": {
    "id": "dRvCSlmdy0MH"
   },
   "source": [
    "## Biblioteka `pycryptodomex`\n",
    "\n",
    "- Instalacja biblioteki (tylko w Colab)."
   ]
  },
  {
   "cell_type": "code",
   "execution_count": 2,
   "metadata": {
    "colab": {
     "base_uri": "https://localhost:8080/"
    },
    "executionInfo": {
     "elapsed": 2821,
     "status": "ok",
     "timestamp": 1742146180563,
     "user": {
      "displayName": "Piotr Zawadzki",
      "userId": "01390574085725020306"
     },
     "user_tz": -60
    },
    "id": "DylyUiDaReyf",
    "outputId": "f2db499e-e999-422e-d428-6925ed5fa99b"
   },
   "outputs": [
    {
     "name": "stdout",
     "output_type": "stream",
     "text": [
      "Defaulting to user installation because normal site-packages is not writeable\n",
      "Requirement already satisfied: pycryptodomex in /usr/local/lib/python3.12/site-packages (3.21.0)\n",
      "\n",
      "\u001b[1m[\u001b[0m\u001b[34;49mnotice\u001b[0m\u001b[1;39;49m]\u001b[0m\u001b[39;49m A new release of pip is available: \u001b[0m\u001b[31;49m24.3.1\u001b[0m\u001b[39;49m -> \u001b[0m\u001b[32;49m25.0.1\u001b[0m\n",
      "\u001b[1m[\u001b[0m\u001b[34;49mnotice\u001b[0m\u001b[1;39;49m]\u001b[0m\u001b[39;49m To update, run: \u001b[0m\u001b[32;49mpip install --upgrade pip\u001b[0m\n",
      "Note: you may need to restart the kernel to use updated packages.\n"
     ]
    }
   ],
   "source": [
    "%pip install pycryptodomex"
   ]
  },
  {
   "cell_type": "markdown",
   "metadata": {
    "id": "qG6ouPkezEEc"
   },
   "source": [
    "- Definicja procedur szyfrujących i deszyfryjących plik.\n",
    "\n",
    "Zwróć uwagę, że aby osiągnąć kompatybilność z procedurą deszyfrującą, nie tylko parametry szyfru, ale również **procedura dopełniania** oraz **procedura generacji klucza sesyjnego** muszą być identyczne. Oznacza to, że niezależnie od wykorzystywanej funkcji bibliotecznej wszystkie parametry wywołania muszą być zgodnego do najdrobniejszego szczegółu. Dlatego w kodzie źródłowym warto jawnie specyfikować wartości parametrów i nie polegać na wartościach domyślnie przyjętych przez twórców biblioteki (te mogą się zmienić w następnej wersji, co może prowadzić do błędów trudnych do wykrycia)."
   ]
  },
  {
   "cell_type": "code",
   "execution_count": 1,
   "metadata": {
    "executionInfo": {
     "elapsed": 19,
     "status": "ok",
     "timestamp": 1742146180583,
     "user": {
      "displayName": "Piotr Zawadzki",
      "userId": "01390574085725020306"
     },
     "user_tz": -60
    },
    "id": "h7cR8qPnxncI"
   },
   "outputs": [],
   "source": [
    "from Cryptodome.Cipher import AES\n",
    "from Cryptodome.Protocol.KDF import PBKDF2\n",
    "from Cryptodome.Random import get_random_bytes\n",
    "from Cryptodome.Util.Padding import pad, unpad\n",
    "from Cryptodome.Hash import SHA256\n",
    "\n",
    "def encrypt_file_cryptodomex(input_file, output_file, password):\n",
    "    salt = b'Kryptografia'\n",
    "    key = PBKDF2(password.encode(), salt, dkLen=32, count=100000, hmac_hash_module=SHA256)\n",
    "    iv = get_random_bytes(16)\n",
    "    with open(input_file, 'rb') as f:\n",
    "        plaintext = f.read()\n",
    "    padded_plaintext = pad(plaintext, AES.block_size, style='pkcs7')\n",
    "    cipher = AES.new(key, AES.MODE_CBC, iv)\n",
    "    ciphertext = cipher.encrypt(padded_plaintext)\n",
    "    with open(output_file, 'wb') as f:\n",
    "        f.write(iv + ciphertext)\n",
    "\n",
    "def decrypt_file_cryptodomex(input_file, output_file, password):\n",
    "    salt = b'Kryptografia'\n",
    "    key = PBKDF2(password.encode(), salt, dkLen=32, count=100000, hmac_hash_module=SHA256)\n",
    "    with open(input_file, 'rb') as f:\n",
    "        data = f.read()\n",
    "    iv = data[:16]\n",
    "    ciphertext = data[16:]\n",
    "    cipher = AES.new(key, AES.MODE_CBC, iv)\n",
    "    padded_plaintext = cipher.decrypt(ciphertext)\n",
    "    plaintext = unpad(padded_plaintext, AES.block_size, style='pkcs7')\n",
    "    with open(output_file, 'wb') as f:\n",
    "        f.write(plaintext)"
   ]
  },
  {
   "cell_type": "markdown",
   "metadata": {
    "id": "EDvvhJdJziVV"
   },
   "source": [
    "- Zaszyfrowanie pliku testowego, a następnie jego odszyfrowanie i wyświetlenie zdeszyfrowanej zawarości."
   ]
  },
  {
   "cell_type": "code",
   "execution_count": 4,
   "metadata": {
    "colab": {
     "base_uri": "https://localhost:8080/"
    },
    "executionInfo": {
     "elapsed": 225,
     "status": "ok",
     "timestamp": 1742146180819,
     "user": {
      "displayName": "Piotr Zawadzki",
      "userId": "01390574085725020306"
     },
     "user_tz": -60
    },
    "id": "2Hzzq_HdzjMP",
    "outputId": "a1134f7d-ac98-4c36-e1a0-a09cb0beef0c"
   },
   "outputs": [
    {
     "name": "stdout",
     "output_type": "stream",
     "text": [
      "Files 'plaintext.txt' and 'decrypted.txt' are identical.\n",
      "This is the first line.\n",
      "This is the second line.\n",
      "And this is the third line.\n",
      "\n"
     ]
    }
   ],
   "source": [
    "encrypt_file_cryptodomex('plaintext.txt', 'ciphertext_cryptodomex.bin', 'TwojeHaslo')\n",
    "decrypt_file_cryptodomex('ciphertext_cryptodomex.bin', 'decrypted.txt', 'TwojeHaslo')\n",
    "compare_files('plaintext.txt', 'decrypted.txt')\n",
    "print_file_content('decrypted.txt')"
   ]
  },
  {
   "cell_type": "markdown",
   "metadata": {
    "id": "vR78l6fs0sZA"
   },
   "source": [
    "## Biblioteka `cryptography`\n",
    "\n",
    "- Biblioteki nie trzeba instalować, również w Colab.\n",
    "\n",
    "- Definicja procedur szyfrujących i deszyfrujących"
   ]
  },
  {
   "cell_type": "code",
   "execution_count": null,
   "metadata": {
    "executionInfo": {
     "elapsed": 2,
     "status": "ok",
     "timestamp": 1742146180820,
     "user": {
      "displayName": "Piotr Zawadzki",
      "userId": "01390574085725020306"
     },
     "user_tz": -60
    },
    "id": "Vhw4d8BF1N0h"
   },
   "outputs": [],
   "source": [
    "import os\n",
    "from cryptography.hazmat.primitives import padding, hashes\n",
    "from cryptography.hazmat.primitives.kdf.pbkdf2 import PBKDF2HMAC\n",
    "from cryptography.hazmat.primitives.ciphers import Cipher, algorithms, modes\n",
    "from cryptography.hazmat.backends import default_backend\n",
    "\n",
    "def encrypt_file_cryptography(input_file, output_file, password):\n",
    "    salt = b'Kryptografia'\n",
    "    kdf = PBKDF2HMAC(\n",
    "        algorithm=hashes.SHA256(),\n",
    "        length=32,\n",
    "        salt=salt,\n",
    "        iterations=100000,\n",
    "        backend=default_backend()\n",
    "    )\n",
    "    key = kdf.derive(password.encode())\n",
    "    iv = os.urandom(16)\n",
    "    with open(input_file, 'rb') as f:\n",
    "        plaintext = f.read()\n",
    "    padder = padding.PKCS7(algorithms.AES.block_size).padder()\n",
    "    padded_plaintext = padder.update(plaintext) + padder.finalize()\n",
    "    cipher = Cipher(algorithms.AES(key), modes.CBC(iv), backend=default_backend())\n",
    "    encryptor = cipher.encryptor()\n",
    "    ciphertext = encryptor.update(padded_plaintext) + encryptor.finalize()\n",
    "    with open(output_file, 'wb') as f:\n",
    "        f.write(iv + ciphertext)\n",
    "\n",
    "def decrypt_file_cryptography(input_file, output_file, password):\n",
    "    salt = b'Kryptografia'\n",
    "    kdf = PBKDF2HMAC(\n",
    "        algorithm=hashes.SHA256(),\n",
    "        length=32,\n",
    "        salt=salt,\n",
    "        iterations=100000,\n",
    "        backend=default_backend()\n",
    "    )\n",
    "    key = kdf.derive(password.encode())\n",
    "    with open(input_file, 'rb') as f:\n",
    "        data = f.read()\n",
    "    iv = data[:16]\n",
    "    ciphertext = data[16:]\n",
    "    cipher = Cipher(algorithms.AES(key), modes.CBC(iv), backend=default_backend())\n",
    "    decryptor = cipher.decryptor()\n",
    "    padded_plaintext = decryptor.update(ciphertext) + decryptor.finalize()\n",
    "    unpadder = padding.PKCS7(algorithms.AES.block_size).unpadder()\n",
    "    plaintext = unpadder.update(padded_plaintext) + unpadder.finalize()\n",
    "    with open(output_file, 'wb') as f:\n",
    "        f.write(plaintext)"
   ]
  },
  {
   "cell_type": "markdown",
   "metadata": {
    "id": "8wdQV36O1rKW"
   },
   "source": [
    "- Zaszyfrowanie pliku testowego, a następnie jego odszyfrowanie i wyświetlenie zdeszyfrowanej zawarości."
   ]
  },
  {
   "cell_type": "code",
   "execution_count": 6,
   "metadata": {
    "colab": {
     "base_uri": "https://localhost:8080/"
    },
    "executionInfo": {
     "elapsed": 291,
     "status": "ok",
     "timestamp": 1742146181109,
     "user": {
      "displayName": "Piotr Zawadzki",
      "userId": "01390574085725020306"
     },
     "user_tz": -60
    },
    "id": "45YNfQgs0r5p",
    "outputId": "298a858e-470a-4ff3-eba5-0434aef333b8"
   },
   "outputs": [
    {
     "name": "stdout",
     "output_type": "stream",
     "text": [
      "Files 'plaintext.txt' and 'decrypted.txt' are identical.\n",
      "This is the first line.\n",
      "This is the second line.\n",
      "And this is the third line.\n",
      "\n"
     ]
    }
   ],
   "source": [
    "encrypt_file_cryptography('plaintext.txt', 'ciphertext_cryptography.bin', 'TwojeHaslo')\n",
    "decrypt_file_cryptography('ciphertext_cryptography.bin', 'decrypted.txt', 'TwojeHaslo')\n",
    "compare_files('plaintext.txt', 'decrypted.txt')\n",
    "print_file_content('decrypted.txt')"
   ]
  },
  {
   "cell_type": "markdown",
   "metadata": {
    "id": "xqojI1YK2BNI"
   },
   "source": [
    "## Sprawdzenie krzyżowe (cross validation)"
   ]
  },
  {
   "cell_type": "markdown",
   "metadata": {
    "id": "OZ9S3KmX2U77"
   },
   "source": [
    "1. Szyfrujemy `cryptodomex`, deszyfrujemy `cryptography`"
   ]
  },
  {
   "cell_type": "code",
   "execution_count": 7,
   "metadata": {
    "colab": {
     "base_uri": "https://localhost:8080/"
    },
    "executionInfo": {
     "elapsed": 194,
     "status": "ok",
     "timestamp": 1742146181304,
     "user": {
      "displayName": "Piotr Zawadzki",
      "userId": "01390574085725020306"
     },
     "user_tz": -60
    },
    "id": "GrDG9nSS2g7d",
    "outputId": "aabee0f0-66b7-4317-dc33-3e04e861e3bd"
   },
   "outputs": [
    {
     "name": "stdout",
     "output_type": "stream",
     "text": [
      "Files 'plaintext.txt' and 'decrypted.txt' are identical.\n",
      "This is the first line.\n",
      "This is the second line.\n",
      "And this is the third line.\n",
      "\n"
     ]
    }
   ],
   "source": [
    "encrypt_file_cryptodomex('plaintext.txt', 'ciphertext_cryptodomex.bin', 'TwojeHaslo')\n",
    "decrypt_file_cryptography('ciphertext_cryptodomex.bin', 'decrypted.txt', 'TwojeHaslo')\n",
    "compare_files('plaintext.txt', 'decrypted.txt')\n",
    "print_file_content('decrypted.txt')"
   ]
  },
  {
   "cell_type": "markdown",
   "metadata": {
    "id": "5xVCYpPW20yh"
   },
   "source": [
    "2. Szyfrujemy `cryptography`, deszyfrujemy `crytpodomex`"
   ]
  },
  {
   "cell_type": "code",
   "execution_count": 8,
   "metadata": {
    "colab": {
     "base_uri": "https://localhost:8080/"
    },
    "executionInfo": {
     "elapsed": 346,
     "status": "ok",
     "timestamp": 1742146181652,
     "user": {
      "displayName": "Piotr Zawadzki",
      "userId": "01390574085725020306"
     },
     "user_tz": -60
    },
    "id": "ErA61Sy13Kmt",
    "outputId": "d39af514-8c6e-4dfb-d339-5dfb999855b4"
   },
   "outputs": [
    {
     "name": "stdout",
     "output_type": "stream",
     "text": [
      "Files 'plaintext.txt' and 'decrypted.txt' are identical.\n",
      "This is the first line.\n",
      "This is the second line.\n",
      "And this is the third line.\n",
      "\n"
     ]
    }
   ],
   "source": [
    "encrypt_file_cryptography('plaintext.txt', 'ciphertext_cryptography.bin', 'TwojeHaslo')\n",
    "decrypt_file_cryptodomex('ciphertext_cryptography.bin', 'decrypted.txt', 'TwojeHaslo')\n",
    "compare_files('plaintext.txt', 'decrypted.txt')\n",
    "print_file_content('decrypted.txt')"
   ]
  }
 ],
 "metadata": {
  "colab": {
   "authorship_tag": "ABX9TyMAn/PYxgz7euP1dE7rri6m",
   "provenance": []
  },
  "kernelspec": {
   "display_name": "Python 3",
   "name": "python3"
  },
  "language_info": {
   "codemirror_mode": {
    "name": "ipython",
    "version": 3
   },
   "file_extension": ".py",
   "mimetype": "text/x-python",
   "name": "python",
   "nbconvert_exporter": "python",
   "pygments_lexer": "ipython3",
   "version": "3.12.9"
  }
 },
 "nbformat": 4,
 "nbformat_minor": 0
}
