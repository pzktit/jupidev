{
 "cells": [
  {
   "cell_type": "markdown",
   "metadata": {},
   "source": [
    "# Kod poniżej inicjuje IBM API Token dla danego projektu. \n",
    "\n",
    "Dzięki tej inicjalizacji nie jest potrzebne jawnego odwoływanie się do `IBM Id` w kodzie źródłowym notatników.\n",
    "\n",
    "**Przed uruchomieniem notatnika załóż konto na [IBM Quantum Platform](https://quantum.ibm.com/), wygeneruj API Token i wklej do kodu w punkcie 2.**"
   ]
  },
  {
   "cell_type": "markdown",
   "metadata": {},
   "source": [
    "1. Sprawdź, z której wersji `Qiskit`"
   ]
  },
  {
   "cell_type": "code",
   "execution_count": 4,
   "metadata": {},
   "outputs": [
    {
     "data": {
      "text/plain": [
       "'1.4.1'"
      ]
     },
     "execution_count": 4,
     "metadata": {},
     "output_type": "execute_result"
    }
   ],
   "source": [
    "import qiskit\n",
    "qiskit.__version__"
   ]
  },
  {
   "cell_type": "markdown",
   "metadata": {},
   "source": [
    "2. Zainicjuj API Token dla projektu."
   ]
  },
  {
   "cell_type": "code",
   "execution_count": null,
   "metadata": {},
   "outputs": [],
   "source": [
    "from qiskit_ibm_runtime import QiskitRuntimeService\n",
    "QiskitRuntimeService.save_account(overwrite=True,channel=\"ibm_quantum\",token=\"Paste Your API Token Here\")\n"
   ]
  },
  {
   "cell_type": "markdown",
   "metadata": {},
   "source": [
    "3. Sprawdź parametry używanego konta"
   ]
  },
  {
   "cell_type": "code",
   "execution_count": null,
   "metadata": {},
   "outputs": [
    {
     "name": "stdout",
     "output_type": "stream",
     "text": [
      "Active account: {'channel': 'ibm_quantum', 'url': 'https://auth.quantum.ibm.com/api', 'token': 'd5a66d13d30da330c96665552e20ffd15275a6327a63d6f17d1b22acfa3bd966a5b1c5f4ef820441bea811cfbb55778543ebb2e695dacc01b25821ed70d2b8a2', 'verify': True, 'private_endpoint': False}\n"
     ]
    }
   ],
   "source": [
    "service = QiskitRuntimeService()\n",
    "print(\"Active account:\", service.active_account())"
   ]
  },
  {
   "cell_type": "markdown",
   "metadata": {},
   "source": [
    "4. Sprawdź parametry dostępnych komputerów kwantowych"
   ]
  },
  {
   "cell_type": "code",
   "execution_count": null,
   "metadata": {},
   "outputs": [
    {
     "name": "stdout",
     "output_type": "stream",
     "text": [
      "Number of backends found: 3\n",
      "ibm_brisbane  num qubits: 127\n",
      "ibm_kyiv  num qubits: 127\n",
      "ibm_sherbrooke  num qubits: 127\n"
     ]
    }
   ],
   "source": [
    "backends = service.backends()\n",
    "print(\"Number of backends found:\", len(backends))\n",
    "for backend in backends:\n",
    "    print(backend.name, \" num qubits:\", backend.configuration().n_qubits)"
   ]
  }
 ],
 "metadata": {
  "kernelspec": {
   "display_name": "Python 3",
   "language": "python",
   "name": "python3"
  },
  "language_info": {
   "codemirror_mode": {
    "name": "ipython",
    "version": 3
   },
   "file_extension": ".py",
   "mimetype": "text/x-python",
   "name": "python",
   "nbconvert_exporter": "python",
   "pygments_lexer": "ipython3",
   "version": "3.12.8"
  }
 },
 "nbformat": 4,
 "nbformat_minor": 4
}
